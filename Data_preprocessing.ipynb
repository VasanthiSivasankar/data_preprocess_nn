{
  "nbformat": 4,
  "nbformat_minor": 0,
  "metadata": {
    "colab": {
      "provenance": [],
      "authorship_tag": "ABX9TyM+A/2BD6ku8kNqM6e6C6zl",
      "include_colab_link": true
    },
    "kernelspec": {
      "name": "python3",
      "display_name": "Python 3"
    },
    "language_info": {
      "name": "python"
    }
  },
  "cells": [
    {
      "cell_type": "markdown",
      "metadata": {
        "id": "view-in-github",
        "colab_type": "text"
      },
      "source": [
        "<a href=\"https://colab.research.google.com/github/VasanthiSivasankar/data_preprocess_nn/blob/main/Data_preprocessing.ipynb\" target=\"_parent\"><img src=\"https://colab.research.google.com/assets/colab-badge.svg\" alt=\"Open In Colab\"/></a>"
      ]
    },
    {
      "cell_type": "code",
      "execution_count": 1,
      "metadata": {
        "id": "SYq-htxlRSNb"
      },
      "outputs": [],
      "source": [
        "import pandas as pd"
      ]
    },
    {
      "cell_type": "code",
      "source": [
        "from sklearn.model_selection import train_test_split\n",
        "from sklearn.preprocessing import StandardScaler, OneHotEncoder\n",
        "from sklearn.impute import SimpleImputer"
      ],
      "metadata": {
        "id": "njzH6UgrRuGS"
      },
      "execution_count": 2,
      "outputs": []
    },
    {
      "cell_type": "code",
      "source": [
        "data = pd.read_csv('Student_Performance_on_an_Entrance_Examination.csv')\n"
      ],
      "metadata": {
        "id": "shaa-XTtSLK6"
      },
      "execution_count": 4,
      "outputs": []
    },
    {
      "cell_type": "code",
      "source": [
        "print(data.isnull().sum())"
      ],
      "metadata": {
        "colab": {
          "base_uri": "https://localhost:8080/"
        },
        "id": "kNytWeUDSSgq",
        "outputId": "88178227-db1e-4c66-8c45-b2b917138cb7"
      },
      "execution_count": 5,
      "outputs": [
        {
          "output_type": "stream",
          "name": "stdout",
          "text": [
            "Gender                  0\n",
            "Caste                   0\n",
            "coaching                0\n",
            "Class_ten_education     0\n",
            "twelve_education        0\n",
            "medium                  0\n",
            "Class_X_Percentage      0\n",
            "Class_XII_Percentage    0\n",
            "Father_occupation       0\n",
            "Mother_occupation       0\n",
            "time                    0\n",
            "Performance             0\n",
            "dtype: int64\n"
          ]
        }
      ]
    },
    {
      "cell_type": "code",
      "source": [
        "print(data.head())"
      ],
      "metadata": {
        "colab": {
          "base_uri": "https://localhost:8080/"
        },
        "id": "4Ks20eo3Sda9",
        "outputId": "9f72a94c-7d37-41e6-90e1-1b9b8bb1051c"
      },
      "execution_count": 6,
      "outputs": [
        {
          "output_type": "stream",
          "name": "stdout",
          "text": [
            "  Gender    Caste coaching Class_ten_education twelve_education   medium  \\\n",
            "0   male  General       NO                SEBA            AHSEC  ENGLISH   \n",
            "1   male      OBC       WA                SEBA            AHSEC   OTHERS   \n",
            "2   male      OBC       OA              OTHERS             CBSE  ENGLISH   \n",
            "3   male  General       WA                SEBA            AHSEC   OTHERS   \n",
            "4   male  General       OA                SEBA             CBSE  ENGLISH   \n",
            "\n",
            "  Class_X_Percentage Class_XII_Percentage Father_occupation Mother_occupation  \\\n",
            "0          Excellent            Excellent            DOCTOR            OTHERS   \n",
            "1          Excellent            Excellent    SCHOOL_TEACHER        HOUSE_WIFE   \n",
            "2          Excellent            Excellent          BUSINESS        HOUSE_WIFE   \n",
            "3          Excellent            Excellent    SCHOOL_TEACHER    SCHOOL_TEACHER   \n",
            "4          Excellent            Excellent   COLLEGE_TEACHER        HOUSE_WIFE   \n",
            "\n",
            "  time Performance  \n",
            "0  ONE   Excellent  \n",
            "1  TWO   Excellent  \n",
            "2  TWO   Excellent  \n",
            "3  ONE   Excellent  \n",
            "4  TWO   Excellent  \n"
          ]
        }
      ]
    },
    {
      "cell_type": "code",
      "source": [
        "print(data.info())"
      ],
      "metadata": {
        "colab": {
          "base_uri": "https://localhost:8080/"
        },
        "id": "U1fev7nZSidH",
        "outputId": "a99d2825-43cf-4e31-ef1d-c06aefd5d863"
      },
      "execution_count": 7,
      "outputs": [
        {
          "output_type": "stream",
          "name": "stdout",
          "text": [
            "<class 'pandas.core.frame.DataFrame'>\n",
            "RangeIndex: 666 entries, 0 to 665\n",
            "Data columns (total 12 columns):\n",
            " #   Column                Non-Null Count  Dtype \n",
            "---  ------                --------------  ----- \n",
            " 0   Gender                666 non-null    object\n",
            " 1   Caste                 666 non-null    object\n",
            " 2   coaching              666 non-null    object\n",
            " 3   Class_ten_education   666 non-null    object\n",
            " 4   twelve_education      666 non-null    object\n",
            " 5   medium                666 non-null    object\n",
            " 6   Class_X_Percentage    666 non-null    object\n",
            " 7   Class_XII_Percentage  666 non-null    object\n",
            " 8   Father_occupation     666 non-null    object\n",
            " 9   Mother_occupation     666 non-null    object\n",
            " 10  time                  666 non-null    object\n",
            " 11  Performance           666 non-null    object\n",
            "dtypes: object(12)\n",
            "memory usage: 62.6+ KB\n",
            "None\n"
          ]
        }
      ]
    },
    {
      "cell_type": "code",
      "source": [
        "encoder= OneHotEncoder()"
      ],
      "metadata": {
        "id": "em7oBA0sSmyk"
      },
      "execution_count": 8,
      "outputs": []
    },
    {
      "cell_type": "code",
      "source": [
        "encoded_data= pd.DataFrame(encoder.fit_transform(data[['Gender']]).toarray())\n",
        "encoded_data= pd.DataFrame(encoder.fit_transform(data[['Caste']]).toarray())\n",
        "encoded_data= pd.DataFrame(encoder.fit_transform(data[['coaching']]).toarray())\n",
        "encoded_data= pd.DataFrame(encoder.fit_transform(data[['Class_ten_education']]).toarray())\n",
        "encoded_data= pd.DataFrame(encoder.fit_transform(data[['twelve_education']]).toarray())\n",
        "encoded_data= pd.DataFrame(encoder.fit_transform(data[['medium']]).toarray())\n",
        "encoded_data= pd.DataFrame(encoder.fit_transform(data[['Class_X_Percentage']]).toarray())\n",
        "encoded_data= pd.DataFrame(encoder.fit_transform(data[['Class_XII_Percentage']]).toarray())\n",
        "encoded_data= pd.DataFrame(encoder.fit_transform(data[['Father_occupation']]).toarray())\n",
        "encoded_data= pd.DataFrame(encoder.fit_transform(data[['Mother_occupation']]).toarray())\n",
        "encoded_data= pd.DataFrame(encoder.fit_transform(data[['time']]).toarray())\n",
        "encoded_data= pd.DataFrame(encoder.fit_transform(data[['Performance']]).toarray())"
      ],
      "metadata": {
        "id": "IDdTYD9cTD6T"
      },
      "execution_count": 11,
      "outputs": []
    },
    {
      "cell_type": "code",
      "source": [
        "x=data.drop('Performance',axis=1)\n",
        "y=data['Performance']"
      ],
      "metadata": {
        "id": "2HKT2vlNTioe"
      },
      "execution_count": 12,
      "outputs": []
    },
    {
      "cell_type": "code",
      "source": [
        "x_train,x_test,y_train,y_test=train_test_split(x,y,test_size=0.2,random_state=42)"
      ],
      "metadata": {
        "id": "TMy99V5MUqup"
      },
      "execution_count": 13,
      "outputs": []
    },
    {
      "cell_type": "code",
      "source": [
        "from sklearn.metrics import accuracy_score\n"
      ],
      "metadata": {
        "id": "mmWRYC-mU3lx"
      },
      "execution_count": 14,
      "outputs": []
    },
    {
      "cell_type": "code",
      "source": [],
      "metadata": {
        "id": "ROSAyF57U_LY"
      },
      "execution_count": null,
      "outputs": []
    }
  ]
}